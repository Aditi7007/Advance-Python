{
  "nbformat": 4,
  "nbformat_minor": 0,
  "metadata": {
    "colab": {
      "provenance": [],
      "authorship_tag": "ABX9TyMgU8XFeH1Hm1ag4ZYsWP7U",
      "include_colab_link": true
    },
    "kernelspec": {
      "name": "python3",
      "display_name": "Python 3"
    },
    "language_info": {
      "name": "python"
    }
  },
  "cells": [
    {
      "cell_type": "markdown",
      "metadata": {
        "id": "view-in-github",
        "colab_type": "text"
      },
      "source": [
        "<a href=\"https://colab.research.google.com/github/Aditi7007/Advance-Python/blob/main/Untitled0.ipynb\" target=\"_parent\"><img src=\"https://colab.research.google.com/assets/colab-badge.svg\" alt=\"Open In Colab\"/></a>"
      ]
    },
    {
      "cell_type": "code",
      "execution_count": null,
      "metadata": {
        "colab": {
          "base_uri": "https://localhost:8080/"
        },
        "id": "VSUYk9kPBnp0",
        "outputId": "16350a7a-366e-4524-e5e7-05b501577d1f"
      },
      "outputs": [
        {
          "output_type": "execute_result",
          "data": {
            "text/plain": [
              "10    5\n",
              "20    6\n",
              "30    7\n",
              "40    8\n",
              "dtype: int64"
            ]
          },
          "metadata": {},
          "execution_count": 5
        }
      ],
      "source": [
        "import pandas as pd\n",
        "import numpy as np\n",
        "data=np.array([5,6,7,8])\n",
        "ds=pd.Series(data,index=[10,20,30,40])\n",
        "ds"
      ]
    },
    {
      "cell_type": "code",
      "source": [
        "dict=('a':10,'b':20,'c':30)\n",
        "ds1=pd.Series(dict)\n",
        "print(ds1)"
      ],
      "metadata": {
        "colab": {
          "base_uri": "https://localhost:8080/",
          "height": 130
        },
        "id": "zeB5bZqpEBc-",
        "outputId": "de0fb0df-195d-4790-c111-b52b01d191f0"
      },
      "execution_count": null,
      "outputs": [
        {
          "output_type": "error",
          "ename": "SyntaxError",
          "evalue": "ignored",
          "traceback": [
            "\u001b[0;36m  File \u001b[0;32m\"<ipython-input-7-e79425a5af20>\"\u001b[0;36m, line \u001b[0;32m1\u001b[0m\n\u001b[0;31m    dict=('a': 10,'b': 20,'c':3 0)\u001b[0m\n\u001b[0m             ^\u001b[0m\n\u001b[0;31mSyntaxError\u001b[0m\u001b[0;31m:\u001b[0m invalid syntax\n"
          ]
        }
      ]
    },
    {
      "cell_type": "code",
      "source": [
        "print(df6)\n",
        "df6,drop(6,inplace=True)\n",
        "print(df6)\n"
      ],
      "metadata": {
        "id": "s5bx52wQSww3"
      },
      "execution_count": null,
      "outputs": []
    },
    {
      "cell_type": "code",
      "source": [
        "print(df5.loc['st1',[0,1]])\n",
        "abc\n",
        "df5.iloc[:2,:2]"
      ],
      "metadata": {
        "id": "otE44WM_bFU5"
      },
      "execution_count": null,
      "outputs": []
    },
    {
      "cell_type": "code",
      "source": [],
      "metadata": {
        "id": "kJZoD1ncS_Jc"
      },
      "execution_count": null,
      "outputs": []
    }
  ]
}