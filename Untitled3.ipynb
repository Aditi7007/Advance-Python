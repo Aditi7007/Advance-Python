{
  "nbformat": 4,
  "nbformat_minor": 0,
  "metadata": {
    "colab": {
      "provenance": [],
      "authorship_tag": "ABX9TyNJGSvpr7cdoUNS/ZH6Vk3z",
      "include_colab_link": true
    },
    "kernelspec": {
      "name": "python3",
      "display_name": "Python 3"
    },
    "language_info": {
      "name": "python"
    }
  },
  "cells": [
    {
      "cell_type": "markdown",
      "metadata": {
        "id": "view-in-github",
        "colab_type": "text"
      },
      "source": [
        "<a href=\"https://colab.research.google.com/github/Aditi7007/Advance-Python/blob/main/Untitled3.ipynb\" target=\"_parent\"><img src=\"https://colab.research.google.com/assets/colab-badge.svg\" alt=\"Open In Colab\"/></a>"
      ]
    },
    {
      "cell_type": "code",
      "execution_count": null,
      "metadata": {
        "id": "F57xxx7nGpjY"
      },
      "outputs": [],
      "source": []
    },
    {
      "cell_type": "code",
      "source": [
        "def water_jug_problem(jug1_cap, jug2_cap, target_amount):\n",
        "    j1 = 0\n",
        "    j2 = 0\n",
        "    actions = [(\"fill\", 1), (\"fill\", 2), (\"empty\", 1), (\"empty\", 2), (\"pour\", 1, 2), (\"pour\", 2, 1)]\n"
      ],
      "metadata": {
        "id": "JgEfxZzCIvuP"
      },
      "execution_count": 1,
      "outputs": []
    }
  ]
}